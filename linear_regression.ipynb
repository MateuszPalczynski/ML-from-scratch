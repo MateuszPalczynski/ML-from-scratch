{
 "cells": [
  {
   "cell_type": "markdown",
   "id": "cf40da4c-9088-4c72-a3e8-bea5ae0ea42e",
   "metadata": {},
   "source": [
    "1. Numeric approach - by gradient decent"
   ]
  },
  {
   "cell_type": "code",
   "execution_count": 47,
   "id": "3f9edde9-c245-4c88-a123-c3fc6a1d73de",
   "metadata": {},
   "outputs": [],
   "source": [
    "import numpy as np\n",
    "\n",
    "def linear_regression_GD(X, y, theta, iter_num): \n",
    "    w = temp_w = np.random.randn(X.shape[1])\n",
    "    b = temp_b = np.random.randn()\n",
    "    for i in range(iter_num):\n",
    "        temp_w -= theta * (X @ w + b - y) @ X\n",
    "        temp_b -= theta * np.sum((X @ w + b) - y) \n",
    "        w = temp_w\n",
    "        b = temp_b\n",
    "    return w, b"
   ]
  },
  {
   "cell_type": "markdown",
   "id": "6967b6cd-598c-44d4-a0b8-e3ce5881ee65",
   "metadata": {},
   "source": [
    "2. Analitic approach - linear algebra"
   ]
  },
  {
   "cell_type": "code",
   "execution_count": 11,
   "id": "fe9736f1-6317-4117-b1b4-e42ecc69c732",
   "metadata": {},
   "outputs": [],
   "source": [
    "def linear_regression_LA(X, y):\n",
    "    return np.linalg.inv(np.transpose(X) @ X) @ np.transpose(X) @ y"
   ]
  },
  {
   "cell_type": "markdown",
   "id": "3e718866-2fdd-4e80-967a-0f6cdd470dc9",
   "metadata": {},
   "source": [
    "3. Analitic approach - probability"
   ]
  },
  {
   "cell_type": "code",
   "execution_count": 92,
   "id": "ac3c2795-fa32-4686-89ed-bef767ef4aa4",
   "metadata": {},
   "outputs": [],
   "source": [
    "def linear_regression_PR1(X, y): # for 2 variables\n",
    "    a = np.cov(X, y, bias=True)[0][1] / np.var(X)\n",
    "    b = np.mean(y) - a * np.mean(X)\n",
    "    return a, b"
   ]
  },
  {
   "cell_type": "code",
   "execution_count": 13,
   "id": "ac5af0f9-3220-4117-8bd9-223019e95904",
   "metadata": {},
   "outputs": [],
   "source": [
    "def linear_regression_PR(X, y):\n",
    "    return np.linalg.inv(np.transpose(X) @ X) @ np.transpose(X) @ y"
   ]
  },
  {
   "cell_type": "code",
   "execution_count": null,
   "id": "5c7b9901-f6dd-40d8-9266-f6dae7702b44",
   "metadata": {},
   "outputs": [],
   "source": []
  },
  {
   "cell_type": "markdown",
   "id": "f5a8ca3f-41f9-404e-810f-3cf6d2a913ca",
   "metadata": {},
   "source": [
    "Test"
   ]
  },
  {
   "cell_type": "code",
   "execution_count": 104,
   "id": "217eec8e-ce33-4179-bb04-1517cf5301e3",
   "metadata": {},
   "outputs": [
    {
     "name": "stdout",
     "output_type": "stream",
     "text": [
      "[[0.05 0.12]\n",
      " [0.18 0.22]\n",
      " [0.31 0.35]\n",
      " [0.42 0.38]\n",
      " [0.5  0.49]]\n"
     ]
    }
   ],
   "source": [
    "data = np.array([\n",
    " [0.05, 0.12],\n",
    " [0.18, 0.22],\n",
    " [0.31, 0.35],\n",
    " [0.42, 0.38],\n",
    " [0.5, 0.49],\n",
    " ])\n",
    "print(data)\n",
    "X, y = data[:,0], data[:,1]"
   ]
  },
  {
   "cell_type": "code",
   "execution_count": 97,
   "id": "fa8defd9-e806-4452-9f8e-d57474fe9e59",
   "metadata": {},
   "outputs": [
    {
     "data": {
      "text/plain": [
       "array([1.00233226])"
      ]
     },
     "execution_count": 97,
     "metadata": {},
     "output_type": "execute_result"
    }
   ],
   "source": [
    "# LA\n",
    "linear_regression_LA(X,y) # only aX = y, for aX + b = y look at PR"
   ]
  },
  {
   "cell_type": "code",
   "execution_count": 93,
   "id": "0d77170c-a9f0-4c24-aed3-def69122530f",
   "metadata": {},
   "outputs": [
    {
     "data": {
      "text/plain": [
       "(0.7871528837351237, 0.08215135794934383)"
      ]
     },
     "execution_count": 93,
     "metadata": {},
     "output_type": "execute_result"
    }
   ],
   "source": [
    "# PR1\n",
    "linear_regression_PR1(X,y)"
   ]
  },
  {
   "cell_type": "code",
   "execution_count": 98,
   "id": "cc431c3f-05d1-4afa-b749-414d1bea61e8",
   "metadata": {},
   "outputs": [
    {
     "data": {
      "text/plain": [
       "array([0.78715288, 0.08215136])"
      ]
     },
     "execution_count": 98,
     "metadata": {},
     "output_type": "execute_result"
    }
   ],
   "source": [
    "# PR\n",
    "X = np.hstack((X, np.ones((5, 1)))) # we add column with ones for b coefficient\n",
    "linear_regression_PR(X,y)"
   ]
  },
  {
   "cell_type": "code",
   "execution_count": 110,
   "id": "4a271040-5fcc-415e-bf48-8694892910d5",
   "metadata": {},
   "outputs": [
    {
     "data": {
      "text/plain": [
       "(array([0.78715288]), 0.08215135794947345)"
      ]
     },
     "execution_count": 110,
     "metadata": {},
     "output_type": "execute_result"
    }
   ],
   "source": [
    "# GD\n",
    "X = X.reshape((len(X), 1))\n",
    "linear_regression_GD(X,y, 0.001, 100000)"
   ]
  },
  {
   "cell_type": "code",
   "execution_count": null,
   "id": "0accff56-9e15-47c3-851b-41b257ef38cf",
   "metadata": {},
   "outputs": [],
   "source": []
  }
 ],
 "metadata": {
  "kernelspec": {
   "display_name": "Python 3",
   "language": "python",
   "name": "python3"
  },
  "language_info": {
   "codemirror_mode": {
    "name": "ipython",
    "version": 3
   },
   "file_extension": ".py",
   "mimetype": "text/x-python",
   "name": "python",
   "nbconvert_exporter": "python",
   "pygments_lexer": "ipython3",
   "version": "3.11.5"
  }
 },
 "nbformat": 4,
 "nbformat_minor": 5
}
