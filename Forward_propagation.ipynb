{
 "cells": [
  {
   "cell_type": "code",
   "execution_count": 14,
   "id": "1588d26b-7c39-42db-9f0b-78c6526bca14",
   "metadata": {},
   "outputs": [],
   "source": [
    "\n",
    "import numpy as np\n",
    "\n",
    "def dense(A_in, W, B):\n",
    "    Z = np.matmul(A_in, W) + B\n",
    "    A_out = g(Z)\n",
    "    return A_out\n",
    "\n",
    "def g(x):\n",
    "    return 1 / (1 + np.exp(-x))"
   ]
  },
  {
   "cell_type": "code",
   "execution_count": 15,
   "id": "0465f79b-f245-44c7-87cc-810b2b563b68",
   "metadata": {},
   "outputs": [
    {
     "data": {
      "text/plain": [
       "array([[1.00000000e+000, 2.45261912e-231, 1.00000000e+000]])"
      ]
     },
     "execution_count": 15,
     "metadata": {},
     "output_type": "execute_result"
    }
   ],
   "source": [
    "X = np.array([[200, 17]])\n",
    "W = np.array([[1, -3, 5],\n",
    "            [-2, 4, -6]])\n",
    "B = np.array([[-1, 1, 2]])\n",
    "\n",
    "dense(X, W, B)"
   ]
  },
  {
   "cell_type": "code",
   "execution_count": null,
   "id": "89596ac6-4b51-4a56-893a-a2ace4ec2610",
   "metadata": {},
   "outputs": [],
   "source": []
  }
 ],
 "metadata": {
  "kernelspec": {
   "display_name": "Python 3",
   "language": "python",
   "name": "python3"
  },
  "language_info": {
   "codemirror_mode": {
    "name": "ipython",
    "version": 3
   },
   "file_extension": ".py",
   "mimetype": "text/x-python",
   "name": "python",
   "nbconvert_exporter": "python",
   "pygments_lexer": "ipython3",
   "version": "3.11.5"
  }
 },
 "nbformat": 4,
 "nbformat_minor": 5
}
