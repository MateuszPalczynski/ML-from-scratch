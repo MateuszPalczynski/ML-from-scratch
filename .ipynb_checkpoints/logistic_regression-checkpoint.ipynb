{
 "cells": [
  {
   "cell_type": "markdown",
   "id": "11192ccb-5b1d-4093-8cb3-934baa52c5a7",
   "metadata": {},
   "source": [
    "1. numeric approach - gradient decent"
   ]
  },
  {
   "cell_type": "code",
   "execution_count": 1,
   "id": "896f52cc-e86a-4446-bcd1-d6c3189cfb69",
   "metadata": {},
   "outputs": [],
   "source": [
    "import numpy as np\n",
    "\n",
    "def logistic_regression_GD(X, y, theta, iter_num): \n",
    "    w = temp_w = np.random.randn(X.shape[1])\n",
    "    b = temp_b = np.random.randn()\n",
    "    for i in range(iter_num):\n",
    "        temp_w -= theta * (1/(1+np.exp(-(X @ w + b))) - y) @ X\n",
    "        temp_b -= theta * np.sum(1/(1+np.exp(-(X @ w + b))) - y) \n",
    "        w = temp_w\n",
    "        b = temp_b\n",
    "    return w, b"
   ]
  },
  {
   "cell_type": "code",
   "execution_count": null,
   "id": "16da8905-c3cb-47f9-b439-723ce533d454",
   "metadata": {},
   "outputs": [],
   "source": []
  },
  {
   "cell_type": "markdown",
   "id": "b40194f8-ddc0-4393-997f-955e91d5a200",
   "metadata": {},
   "source": []
  },
  {
   "cell_type": "code",
   "execution_count": null,
   "id": "ab671422-8be3-4064-9606-52dfd16be28e",
   "metadata": {},
   "outputs": [],
   "source": []
  }
 ],
 "metadata": {
  "kernelspec": {
   "display_name": "Python 3",
   "language": "python",
   "name": "python3"
  },
  "language_info": {
   "codemirror_mode": {
    "name": "ipython",
    "version": 3
   },
   "file_extension": ".py",
   "mimetype": "text/x-python",
   "name": "python",
   "nbconvert_exporter": "python",
   "pygments_lexer": "ipython3",
   "version": "3.11.5"
  }
 },
 "nbformat": 4,
 "nbformat_minor": 5
}
