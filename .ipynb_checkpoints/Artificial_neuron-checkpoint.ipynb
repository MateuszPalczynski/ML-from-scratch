{
 "cells": [
  {
   "cell_type": "code",
   "execution_count": 3,
   "id": "570dca8b-09ad-472b-aa67-38d6607117f6",
   "metadata": {},
   "outputs": [],
   "source": [
    "import numpy as np \n",
    "\n",
    "def sigmoid_derivative_function(w, X, y):\n",
    "    return (1/(1+np.exp(-(X @ w + b))) - y) @ X\n",
    "\n",
    "def linear_neuron_derivative_function(w, X, y): \n",
    "    return (X @ w - y) @ X\n",
    "\n",
    "def artificial_neuron(X, y, theta, epoch_num, derivative): \n",
    "    w = np.random.randn(X.shape[1]) # in real world applications we need scaling before it\n",
    "    for i in range(epoch_num):\n",
    "        w -= theta * derivative(w, X, y) \n",
    "    return w"
   ]
  },
  {
   "cell_type": "code",
   "execution_count": 4,
   "id": "df27785e-a405-454b-b49b-9595441dd55a",
   "metadata": {},
   "outputs": [],
   "source": [
    "import numpy as np \n",
    "\n",
    "def identity_derivative(x):\n",
    "    return np.ones_like(x)\n",
    "\n",
    "def sigmoid_derivative(x):\n",
    "    sigmoid_x = sigmoid(x)\n",
    "    return sigmoid_x * (1 - sigmoid_x)\n",
    "\n",
    "def linear_neuron_derivative_function(w, X, y, activation_derivative=identity_derivative): \n",
    "    return (activation_derivative(X @ w) * (X @ w - y)) @ X\n",
    "\n",
    "def artificial_neuron(X, y, theta, epoch_num, derivative, activation_derivative=identity_derivative): \n",
    "    w = np.random.randn(X.shape[1])\n",
    "    for i in range(epoch_num):\n",
    "        w -= theta * derivative(w, X, y, activation_derivative) \n",
    "    return w"
   ]
  },
  {
   "cell_type": "code",
   "execution_count": null,
   "id": "188f2f84-6165-4f4e-abf0-3ddf33b59ddf",
   "metadata": {},
   "outputs": [],
   "source": []
  }
 ],
 "metadata": {
  "kernelspec": {
   "display_name": "Python 3",
   "language": "python",
   "name": "python3"
  },
  "language_info": {
   "codemirror_mode": {
    "name": "ipython",
    "version": 3
   },
   "file_extension": ".py",
   "mimetype": "text/x-python",
   "name": "python",
   "nbconvert_exporter": "python",
   "pygments_lexer": "ipython3",
   "version": "3.11.5"
  }
 },
 "nbformat": 4,
 "nbformat_minor": 5
}
